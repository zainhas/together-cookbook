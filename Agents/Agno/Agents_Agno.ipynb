{
 "cells": [
  {
   "cell_type": "markdown",
   "metadata": {},
   "source": [
    "# Agno Agents with Together AI"
   ]
  },
  {
   "cell_type": "code",
   "execution_count": 13,
   "metadata": {},
   "outputs": [],
   "source": [
    "!pip install -qU agno duckduckgo-search pypdf lancedb tantivy yfinance"
   ]
  },
  {
   "cell_type": "markdown",
   "metadata": {},
   "source": [
    "# Simple Agent"
   ]
  },
  {
   "cell_type": "code",
   "execution_count": 9,
   "metadata": {},
   "outputs": [
    {
     "data": {
      "application/vnd.jupyter.widget-view+json": {
       "model_id": "e5621c936dda446ea2417f8c9af8660a",
       "version_major": 2,
       "version_minor": 0
      },
      "text/plain": [
       "Output()"
      ]
     },
     "metadata": {},
     "output_type": "display_data"
    },
    {
     "data": {
      "text/html": [
       "<pre style=\"white-space:pre;overflow-x:auto;line-height:normal;font-family:Menlo,'DejaVu Sans Mono',consolas,'Courier New',monospace\"></pre>\n"
      ],
      "text/plain": []
     },
     "metadata": {},
     "output_type": "display_data"
    }
   ],
   "source": [
    "from agno.agent import Agent\n",
    "from agno.models.together import Together\n",
    "from agno.tools.duckduckgo import DuckDuckGoTools\n",
    "\n",
    "agent = Agent(\n",
    "    model=Together(id=\"meta-llama/Meta-Llama-3.1-8B-Instruct-Turbo\", max_tokens=4096),\n",
    "    tools=[DuckDuckGoTools()],\n",
    "    markdown=True\n",
    ")\n",
    "agent.print_response(\"What's happened to Kyrie Irving?\", stream=True)"
   ]
  },
  {
   "cell_type": "markdown",
   "metadata": {},
   "source": [
    "# Agent with Knowledge Base"
   ]
  },
  {
   "cell_type": "code",
   "execution_count": 12,
   "metadata": {},
   "outputs": [
    {
     "data": {
      "text/html": [
       "<pre style=\"white-space:pre;overflow-x:auto;line-height:normal;font-family:Menlo,'DejaVu Sans Mono',consolas,'Courier New',monospace\"><span style=\"color: #000080; text-decoration-color: #000080\">INFO    </span> Loading knowledge base                                                                                    \n",
       "</pre>\n"
      ],
      "text/plain": [
       "\u001b[34mINFO    \u001b[0m Loading knowledge base                                                                                    \n"
      ]
     },
     "metadata": {},
     "output_type": "display_data"
    },
    {
     "data": {
      "text/html": [
       "<pre style=\"white-space:pre;overflow-x:auto;line-height:normal;font-family:Menlo,'DejaVu Sans Mono',consolas,'Courier New',monospace\"><span style=\"color: #000080; text-decoration-color: #000080\">INFO    </span> Reading: <span style=\"color: #0000ff; text-decoration-color: #0000ff; text-decoration: underline\">https://agno-public.s3.amazonaws.com/recipes/ThaiRecipes.pdf</span>                                     \n",
       "</pre>\n"
      ],
      "text/plain": [
       "\u001b[34mINFO    \u001b[0m Reading: \u001b[4;94mhttps://agno-public.s3.amazonaws.com/recipes/ThaiRecipes.pdf\u001b[0m                                     \n"
      ]
     },
     "metadata": {},
     "output_type": "display_data"
    },
    {
     "data": {
      "text/html": [
       "<pre style=\"white-space:pre;overflow-x:auto;line-height:normal;font-family:Menlo,'DejaVu Sans Mono',consolas,'Courier New',monospace\"><span style=\"color: #000080; text-decoration-color: #000080\">INFO    </span> Inserting <span style=\"color: #008080; text-decoration-color: #008080; font-weight: bold\">14</span> documents                                                                                    \n",
       "</pre>\n"
      ],
      "text/plain": [
       "\u001b[34mINFO    \u001b[0m Inserting \u001b[1;36m14\u001b[0m documents                                                                                    \n"
      ]
     },
     "metadata": {},
     "output_type": "display_data"
    },
    {
     "data": {
      "text/html": [
       "<pre style=\"white-space:pre;overflow-x:auto;line-height:normal;font-family:Menlo,'DejaVu Sans Mono',consolas,'Courier New',monospace\"><span style=\"color: #000080; text-decoration-color: #000080\">INFO    </span> Added <span style=\"color: #008080; text-decoration-color: #008080; font-weight: bold\">14</span> documents to knowledge base                                                                      \n",
       "</pre>\n"
      ],
      "text/plain": [
       "\u001b[34mINFO    \u001b[0m Added \u001b[1;36m14\u001b[0m documents to knowledge base                                                                      \n"
      ]
     },
     "metadata": {},
     "output_type": "display_data"
    },
    {
     "data": {
      "application/vnd.jupyter.widget-view+json": {
       "model_id": "b802cf548918428dbe95efc99094b98e",
       "version_major": 2,
       "version_minor": 0
      },
      "text/plain": [
       "Output()"
      ]
     },
     "metadata": {},
     "output_type": "display_data"
    },
    {
     "data": {
      "text/html": [
       "<pre style=\"white-space:pre;overflow-x:auto;line-height:normal;font-family:Menlo,'DejaVu Sans Mono',consolas,'Courier New',monospace\"></pre>\n"
      ],
      "text/plain": []
     },
     "metadata": {},
     "output_type": "display_data"
    },
    {
     "data": {
      "application/vnd.jupyter.widget-view+json": {
       "model_id": "ee3307317a28494bab0e723e9008b257",
       "version_major": 2,
       "version_minor": 0
      },
      "text/plain": [
       "Output()"
      ]
     },
     "metadata": {},
     "output_type": "display_data"
    },
    {
     "data": {
      "text/html": [
       "<pre style=\"white-space:pre;overflow-x:auto;line-height:normal;font-family:Menlo,'DejaVu Sans Mono',consolas,'Courier New',monospace\"></pre>\n"
      ],
      "text/plain": []
     },
     "metadata": {},
     "output_type": "display_data"
    }
   ],
   "source": [
    "from agno.agent import Agent\n",
    "from agno.models.together import Together\n",
    "from agno.embedder.together import TogetherEmbedder\n",
    "from agno.tools.duckduckgo import DuckDuckGoTools\n",
    "from agno.knowledge.pdf_url import PDFUrlKnowledgeBase\n",
    "from agno.vectordb.lancedb import LanceDb, SearchType\n",
    "\n",
    "agent = Agent(\n",
    "    model=Together(id=\"meta-llama/Meta-Llama-3.1-8B-Instruct-Turbo\", max_tokens=4096),\n",
    "    description=\"You are a Thai cuisine expert!\",\n",
    "    instructions=[\n",
    "        \"Search your knowledge base for Thai recipes.\",\n",
    "        \"If the question is better suited for the web, search the web to fill in gaps.\",\n",
    "        \"Prefer the information in your knowledge base over the web results.\"\n",
    "    ],\n",
    "    knowledge=PDFUrlKnowledgeBase(\n",
    "        urls=[\"https://agno-public.s3.amazonaws.com/recipes/ThaiRecipes.pdf\"],\n",
    "        vector_db=LanceDb(\n",
    "            uri=\"tmp/lancedb\",\n",
    "            table_name=\"recipes\",\n",
    "            search_type=SearchType.hybrid,\n",
    "            embedder=TogetherEmbedder(id=\"togethercomputer/m2-bert-80M-32k-retrieval\"),\n",
    "        ),\n",
    "    ),\n",
    "    tools=[DuckDuckGoTools()],\n",
    "    show_tool_calls=True,\n",
    "    markdown=True\n",
    ")\n",
    "\n",
    "# Comment out after the knowledge base is loaded\n",
    "if agent.knowledge is not None:\n",
    "    agent.knowledge.load()\n",
    "\n",
    "agent.print_response(\"How do I make chicken and galangal in coconut milk soup\", stream=True)\n",
    "agent.print_response(\"What is the history of Thai curry?\", stream=True)"
   ]
  },
  {
   "cell_type": "markdown",
   "metadata": {},
   "source": [
    "# Multi-Agent System"
   ]
  },
  {
   "cell_type": "code",
   "execution_count": 16,
   "metadata": {},
   "outputs": [
    {
     "data": {
      "application/vnd.jupyter.widget-view+json": {
       "model_id": "150a9b7cf28440418c260209c6aae046",
       "version_major": 2,
       "version_minor": 0
      },
      "text/plain": [
       "Output()"
      ]
     },
     "metadata": {},
     "output_type": "display_data"
    },
    {
     "data": {
      "text/html": [
       "<pre style=\"white-space:pre;overflow-x:auto;line-height:normal;font-family:Menlo,'DejaVu Sans Mono',consolas,'Courier New',monospace\"></pre>\n"
      ],
      "text/plain": []
     },
     "metadata": {},
     "output_type": "display_data"
    }
   ],
   "source": [
    "from agno.agent import Agent\n",
    "from agno.models.together import Together\n",
    "from agno.tools.duckduckgo import DuckDuckGoTools\n",
    "from agno.tools.yfinance import YFinanceTools\n",
    "\n",
    "web_agent = Agent(\n",
    "    name=\"Web Agent\",\n",
    "    role=\"Search the web for information\",\n",
    "    model=Together(id=\"meta-llama/Llama-3.3-70B-Instruct-Turbo\", max_tokens=4096),\n",
    "    tools=[DuckDuckGoTools()],\n",
    "    instructions=\"Always include sources\",\n",
    "    show_tool_calls=True,\n",
    "    markdown=True,\n",
    ")\n",
    "\n",
    "finance_agent = Agent(\n",
    "    name=\"Finance Agent\",\n",
    "    role=\"Get financial data\",\n",
    "    model=Together(id=\"meta-llama/Llama-3.3-70B-Instruct-Turbo\", max_tokens=4096),\n",
    "    tools=[YFinanceTools(stock_price=True, analyst_recommendations=True, company_info=True)],\n",
    "    instructions=\"Use tables to display data\",\n",
    "    show_tool_calls=True,\n",
    "    markdown=True,\n",
    ")\n",
    "\n",
    "agent_team = Agent(\n",
    "    team=[web_agent, finance_agent],\n",
    "    model=Together(id=\"meta-llama/Llama-3.3-70B-Instruct-Turbo\", max_tokens=4096),\n",
    "    instructions=[\"Always include sources\", \"Use tables to display data\"],\n",
    "    show_tool_calls=True,\n",
    "    markdown=True,\n",
    ")\n",
    "\n",
    "agent_team.print_response(\"What's the market outlook and financial performance of AI semiconductor companies?\", stream=True)"
   ]
  }
 ],
 "metadata": {
  "kernelspec": {
   "display_name": "cookbook",
   "language": "python",
   "name": "python3"
  },
  "language_info": {
   "codemirror_mode": {
    "name": "ipython",
    "version": 3
   },
   "file_extension": ".py",
   "mimetype": "text/x-python",
   "name": "python",
   "nbconvert_exporter": "python",
   "pygments_lexer": "ipython3",
   "version": "3.12.8"
  }
 },
 "nbformat": 4,
 "nbformat_minor": 2
}

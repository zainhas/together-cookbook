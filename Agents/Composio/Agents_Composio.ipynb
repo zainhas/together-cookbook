{
 "cells": [
  {
   "cell_type": "markdown",
   "metadata": {},
   "source": [
    "# Using Together AI with Composio to Send Emails\n",
    "\n",
    "[![Open In Colab](https://colab.research.google.com/assets/colab-badge.svg)](https://colab.research.google.com/github.com/togethercomputer/together-cookbook/blob/main/Agents/Composio/Agents_Composio.ipynb)\n",
    "\n",
    "<img src=\"../../images/composio.png\" width=\"700\">\n",
    "\n",
    "This notebook demonstrates how to integrate Together AI's language models with Composio's tools to create an AI agent that can send emails. We'll show:\n",
    "\n",
    "1. Setting up the required packages and authentication\n",
    "2. Configuring the email tool with Composio\n",
    "3. Creating a basic email-sending agent\n",
    "4. Adding preprocessing to customize email behavior\n",
    "5. Executing and handling the email responses\n",
    "\n",
    "Let's see how we can combine these powerful tools to automate email communication!"
   ]
  },
  {
   "cell_type": "markdown",
   "metadata": {},
   "source": [
    "## Prerequisites\n",
    "- Together AI API key - see here here https://api.together.ai/\n",
    "- Composio API key - see here https://app.composio.dev/developers\n",
    "- Gmail account connected to Composio - https://app.composio.dev/integrations - You can also watch this video to see how [integrations with Composio work.](https://www.youtube.com/watch?v=LmyWy4LiedQ)"
   ]
  },
  {
   "cell_type": "code",
   "execution_count": 4,
   "metadata": {},
   "outputs": [],
   "source": [
    "# install the required packages\n",
    "!pip install -qU together composio-togetherai"
   ]
  },
  {
   "cell_type": "markdown",
   "metadata": {},
   "source": [
    "## Gmail Configuration\n",
    "We need to connect our Gmail account to Composio. This will open a browser window for authentication."
   ]
  },
  {
   "cell_type": "code",
   "execution_count": null,
   "metadata": {},
   "outputs": [],
   "source": [
    "# You can add the gmail tool by running the following command or manually going to https://app.composio.dev/integrations\n",
    "!composio login\n",
    "!composio add gmail"
   ]
  },
  {
   "cell_type": "markdown",
   "metadata": {},
   "source": [
    "## Basic Email Tool Call\n",
    "\n",
    "Here we create a simple integration between Together AI's LLM and Composio's Gmail tool:\n",
    "1. Initialize Together AI client\n",
    "2. Create Composio toolset\n",
    "3. Configure email sending capability\n",
    "4. Make an LLM call with the email tool to see if everything is working"
   ]
  },
  {
   "cell_type": "code",
   "execution_count": 1,
   "metadata": {},
   "outputs": [
    {
     "name": "stderr",
     "output_type": "stream",
     "text": [
      "/opt/anaconda3/envs/cookbook/lib/python3.12/site-packages/composio/tools/toolset.py:543: UserWarning: Not verifying connected accounts for apps. Actions may fail when the Agent tries to use them.\n",
      "  warnings.warn(\n"
     ]
    },
    {
     "data": {
      "text/plain": [
       "{'id': 'nnSQh4S-4yUbBN-925f455aa84c36d8',\n",
       " 'object': <ObjectType.ChatCompletion: 'chat.completion'>,\n",
       " 'created': 1742914753,\n",
       " 'model': 'Qwen/Qwen2.5-72B-Instruct-Turbo',\n",
       " 'choices': [{'index': 0,\n",
       "   'logprobs': None,\n",
       "   'seed': 15668879311493286000,\n",
       "   'finish_reason': <FinishReason.ToolCalls: 'tool_calls'>,\n",
       "   'message': {'role': <MessageRole.ASSISTANT: 'assistant'>,\n",
       "    'content': None,\n",
       "    'tool_calls': [{'id': 'call_4rx0ntnagtqyrwml4fwvmhz9',\n",
       "      'type': 'function',\n",
       "      'function': {'name': 'GMAIL_SEND_EMAIL',\n",
       "       'arguments': '{\"user_id\":\"me\",\"recipient_email\":\"john@mlteam.com\",\"subject\":\"Meeting Request: Review Upcoming Launch\",\"body\":\"Hi John,\\\\n\\\\nI hope this message finds you well. Could you please let me know a good time for us to meet next week to review the upcoming launch? Your availability is much appreciated.\\\\n\\\\nBest regards,\\\\nAlex\",\"is_html\":false}'},\n",
       "      'index': 0}]}}],\n",
       " 'prompt': [],\n",
       " 'usage': {'prompt_tokens': 535,\n",
       "  'completion_tokens': 104,\n",
       "  'total_tokens': 639}}"
      ]
     },
     "execution_count": 1,
     "metadata": {},
     "output_type": "execute_result"
    }
   ],
   "source": [
    "import os\n",
    "from composio_togetherai import ComposioToolSet, Action\n",
    "from together import Together\n",
    "\n",
    "# Initialize Together AI and Composio clients with API keys\n",
    "client = Together(api_key=os.getenv(\"TOGETHER_API_KEY\"))\n",
    "toolset = ComposioToolSet(api_key=os.getenv(\"COMPOSIO_API_KEY\"))\n",
    "\n",
    "# Get the Gmail send email tool\n",
    "send_email_tool = toolset.get_tools(\n",
    "    [Action.GMAIL_SEND_EMAIL], check_connected_accounts=False\n",
    ")\n",
    "\n",
    "# Create a chat completion with email capability\n",
    "response = client.chat.completions.create(\n",
    "    model=\"Qwen/Qwen2.5-72B-Instruct-Turbo\",\n",
    "    messages=[\n",
    "        {\"role\": \"system\", \"content\": \"You are Alex, a product manager at an AI company.\"},\n",
    "        {\n",
    "            \"role\": \"user\",\n",
    "            \"content\": \"Send an email to John, who is an ML engineer on the team, to inquire about a good time to meet next week to review the upcoming launch.\",\n",
    "        },\n",
    "    ],\n",
    "    tools=send_email_tool,\n",
    ")\n",
    "\n",
    "response.model_dump()"
   ]
  },
  {
   "cell_type": "markdown",
   "metadata": {},
   "source": [
    "## Modify Gmail tool schema\n",
    "\n",
    "We can customize the email behavior using preprocessors and schema processors:\n",
    "- Preprocessor: Modifies the input before sending (e.g., changing recipient email)\n",
    "- Schema Processor: Modifies the tool schema (e.g., removing fields from LLM's view)"
   ]
  },
  {
   "cell_type": "code",
   "execution_count": 2,
   "metadata": {},
   "outputs": [],
   "source": [
    "# Preprocessor to override recipient email\n",
    "def gmail_preprocessor(inputs: dict) -> dict:\n",
    "    inputs[\"recipient_email\"] = \"my_email.dev\"  # Change to an email you can access to test!\n",
    "    return inputs\n",
    "\n",
    "# Schema processor to hide recipient field from LLM\n",
    "def gmail_schema_processor(schema: dict) -> dict:\n",
    "    del schema[\"recipient_email\"]\n",
    "    return schema\n",
    "\n",
    "# Create processed email tool with both processors\n",
    "processed_send_email_tool = toolset.get_tools(\n",
    "    actions=[Action.GMAIL_SEND_EMAIL],\n",
    "    processors={\n",
    "        \"schema\": {Action.GMAIL_SEND_EMAIL: gmail_schema_processor},\n",
    "        \"pre\": {Action.GMAIL_SEND_EMAIL: gmail_preprocessor},\n",
    "    },\n",
    "    check_connected_accounts=True,\n",
    ")"
   ]
  },
  {
   "cell_type": "markdown",
   "metadata": {},
   "source": [
    "## Executing the Email Send\n",
    "\n",
    "Now we'll execute the email send with our processed tool and handle the response"
   ]
  },
  {
   "cell_type": "code",
   "execution_count": 3,
   "metadata": {},
   "outputs": [],
   "source": [
    "# Execute chat completion with processed tool\n",
    "response = client.chat.completions.create(\n",
    "    model=\"Qwen/Qwen2.5-72B-Instruct-Turbo\",\n",
    "    messages=[\n",
    "        {\"role\": \"system\", \"content\": \"You are Alex, a product manager at an AI company.\"},\n",
    "        {\n",
    "            \"role\": \"user\",\n",
    "            \"content\": \"Send an email to John, who is an ML engineer on the team, to inquire about a good time to meet next week to review the upcoming launch.\",\n",
    "        },\n",
    "    ],\n",
    "    tools=processed_send_email_tool,\n",
    ")\n",
    "\n",
    "# Handle the tool calls and send the email\n",
    "exec_response = toolset.handle_tool_calls(response)\n"
   ]
  },
  {
   "cell_type": "code",
   "execution_count": 4,
   "metadata": {},
   "outputs": [
    {
     "data": {
      "text/plain": [
       "[{'data': {'response_data': {'id': '195cdd11b381f385',\n",
       "    'threadId': '195cdd11b381f385',\n",
       "    'labelIds': ['UNREAD', 'SENT', 'INBOX']}},\n",
       "  'error': None,\n",
       "  'successfull': True,\n",
       "  'successful': True}]"
      ]
     },
     "execution_count": 4,
     "metadata": {},
     "output_type": "execute_result"
    }
   ],
   "source": [
    "# We can see the email was sent successfully!\n",
    "exec_response"
   ]
  },
  {
   "cell_type": "markdown",
   "metadata": {},
   "source": [
    "<img src=\"../../images/email.png\" width=\"300\">"
   ]
  }
 ],
 "metadata": {
  "kernelspec": {
   "display_name": "cookbook",
   "language": "python",
   "name": "python3"
  },
  "language_info": {
   "codemirror_mode": {
    "name": "ipython",
    "version": 3
   },
   "file_extension": ".py",
   "mimetype": "text/x-python",
   "name": "python",
   "nbconvert_exporter": "python",
   "pygments_lexer": "ipython3",
   "version": "3.12.8"
  }
 },
 "nbformat": 4,
 "nbformat_minor": 2
}

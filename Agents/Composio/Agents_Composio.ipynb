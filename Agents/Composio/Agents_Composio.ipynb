{
 "cells": [
  {
   "cell_type": "markdown",
   "metadata": {},
   "source": [
    "## Send an Email with Together AI and Composio"
   ]
  },
  {
   "cell_type": "code",
   "execution_count": 4,
   "metadata": {},
   "outputs": [],
   "source": [
    "!pip install -qU composio_core composio-togetherai"
   ]
  },
  {
   "cell_type": "code",
   "execution_count": 22,
   "metadata": {},
   "outputs": [
    {
     "name": "stdout",
     "output_type": "stream",
     "text": [
      "> Redirecting you to the login page\n",
      "> \u001b[4;32mhttps://app.composio.dev/?\u001b[0m\u001b[4;32mcliKey\u001b[0m\u001b[4;32m=\u001b[0m\u001b[4;32m421a4d27\u001b[0m\u001b[4;32m-77cd-46b5-8ae8-03e8a786bf92\u001b[0m\n",
      "> Enter authentication code: ^C\n",
      "Aborted!\n"
     ]
    }
   ],
   "source": [
    "!composio add gmail"
   ]
  },
  {
   "cell_type": "markdown",
   "metadata": {},
   "source": [
    "ADD IMAGE OF THE ADDING PROCESS"
   ]
  },
  {
   "cell_type": "code",
   "execution_count": null,
   "metadata": {},
   "outputs": [
    {
     "name": "stderr",
     "output_type": "stream",
     "text": [
      "/opt/anaconda3/envs/cookbook/lib/python3.12/site-packages/composio/tools/toolset.py:543: UserWarning: Not verifying connected accounts for apps. Actions may fail when the Agent tries to use them.\n",
      "  warnings.warn(\n"
     ]
    },
    {
     "data": {
      "text/plain": [
       "{'id': 'nnSDCvx-4yUbBN-925f0ea4d8beabe2',\n",
       " 'object': <ObjectType.ChatCompletion: 'chat.completion'>,\n",
       " 'created': 1742912512,\n",
       " 'model': 'Qwen/Qwen2.5-72B-Instruct-Turbo',\n",
       " 'choices': [{'index': 0,\n",
       "   'logprobs': None,\n",
       "   'seed': 2462741448448379000,\n",
       "   'finish_reason': <FinishReason.ToolCalls: 'tool_calls'>,\n",
       "   'message': {'role': <MessageRole.ASSISTANT: 'assistant'>,\n",
       "    'content': None,\n",
       "    'tool_calls': [{'id': 'call_to4avrovseofen8w5tqe4stq',\n",
       "      'type': 'function',\n",
       "      'function': {'name': 'GMAIL_SEND_EMAIL',\n",
       "       'arguments': '{\"recipient_email\":\"sam@openai.com\",\"subject\":\"AGI Timeline Update\",\"body\":\"AGI is coming 5 years earlier.\",\"is_html\":false}'},\n",
       "      'index': 0}]}}],\n",
       " 'prompt': [],\n",
       " 'usage': {'prompt_tokens': 523, 'completion_tokens': 55, 'total_tokens': 578}}"
      ]
     },
     "execution_count": 1,
     "metadata": {},
     "output_type": "execute_result"
    }
   ],
   "source": [
    "import os\n",
    "from composio_togetherai import ComposioToolSet, Action\n",
    "from together import Together\n",
    "\n",
    "\n",
    "client = Together(api_key=os.getenv(\"TOGETHER_API_KEY\"))\n",
    "toolset = ComposioToolSet(api_key=os.getenv(\"COMPOSIO_API_KEY\"))\n",
    "\n",
    "send_email_tool = toolset.get_tools(\n",
    "    [Action.GMAIL_SEND_EMAIL], check_connected_accounts=False\n",
    ")\n",
    "response = client.chat.completions.create(\n",
    "    model=\"Qwen/Qwen2.5-72B-Instruct-Turbo\",\n",
    "    messages=[\n",
    "        {\"role\": \"system\", \"content\": \"You are a head of AGI at OpenAI.\"},\n",
    "        {\n",
    "            \"role\": \"user\",\n",
    "            \"content\": \"Send an email to Sam Altman in one sentence that AGI is coming 5 years earlier.\",\n",
    "        },\n",
    "    ],\n",
    "    tools=send_email_tool,\n",
    ")\n",
    "\n",
    "response.model_dump()\n"
   ]
  },
  {
   "cell_type": "code",
   "execution_count": null,
   "metadata": {},
   "outputs": [],
   "source": [
    "#modify to send email to my_email.dev\n",
    "def gmail_preprocessor(inputs: dict) -> dict:\n",
    "    inputs[\"recipient_email\"] = \"my_email.dev\"  # Change to an email you can access to test!\n",
    "    return inputs\n",
    "\n",
    "#remove recipient_email from schema\n",
    "def gmail_schema_processor(schema: dict) -> dict:\n",
    "    del schema[\"recipient_email\"]\n",
    "    return schema\n",
    "\n",
    "\n",
    "processed_send_email_tool = toolset.get_tools(\n",
    "    actions=[Action.GMAIL_SEND_EMAIL],\n",
    "    processors={\n",
    "        \"schema\": {Action.GMAIL_SEND_EMAIL: gmail_schema_processor},\n",
    "        \"pre\": {Action.GMAIL_SEND_EMAIL: gmail_preprocessor},\n",
    "    },\n",
    "    check_connected_accounts=True,\n",
    ")"
   ]
  },
  {
   "cell_type": "code",
   "execution_count": 3,
   "metadata": {},
   "outputs": [],
   "source": [
    "response = client.chat.completions.create(\n",
    "    model=\"Qwen/Qwen2.5-72B-Instruct-Turbo\",\n",
    "    messages=[\n",
    "        {\"role\": \"system\", \"content\": \"You are a head of AGI at OpenAI.\"},\n",
    "        {\n",
    "            \"role\": \"user\",\n",
    "            \"content\": \"Send an email to Sam Altman in one sentence that AGI is coming 5 years earlier.\",\n",
    "        },\n",
    "    ],\n",
    "    tools=processed_send_email_tool,\n",
    ")\n",
    "\n",
    "exec_response = toolset.handle_tool_calls(response)\n"
   ]
  },
  {
   "cell_type": "code",
   "execution_count": 4,
   "metadata": {},
   "outputs": [
    {
     "data": {
      "text/plain": [
       "[{'data': {'response_data': {'id': '195cdaf5cdfedf06',\n",
       "    'threadId': '195cdaf5cdfedf06',\n",
       "    'labelIds': ['UNREAD', 'SENT', 'INBOX']}},\n",
       "  'error': None,\n",
       "  'successfull': True,\n",
       "  'successful': True}]"
      ]
     },
     "execution_count": 4,
     "metadata": {},
     "output_type": "execute_result"
    }
   ],
   "source": [
    "exec_response"
   ]
  }
 ],
 "metadata": {
  "kernelspec": {
   "display_name": "cookbook",
   "language": "python",
   "name": "python3"
  },
  "language_info": {
   "codemirror_mode": {
    "name": "ipython",
    "version": 3
   },
   "file_extension": ".py",
   "mimetype": "text/x-python",
   "name": "python",
   "nbconvert_exporter": "python",
   "pygments_lexer": "ipython3",
   "version": "3.12.8"
  }
 },
 "nbformat": 4,
 "nbformat_minor": 2
}
